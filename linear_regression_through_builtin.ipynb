{
 "cells": [
  {
   "cell_type": "code",
   "execution_count": 5,
   "id": "58c73ea9",
   "metadata": {},
   "outputs": [],
   "source": [
    "import torch.nn as nn\n",
    "import numpy as np\n",
    "import torch"
   ]
  },
  {
   "cell_type": "code",
   "execution_count": 6,
   "id": "cdae2cd2",
   "metadata": {},
   "outputs": [],
   "source": [
    "inputs = np.array([\n",
    "    [73,67,43],[91,88,64],[87,134,58],\n",
    "    [102,43,37],[69,96,70],[73,67,43],\n",
    "    [91,88,64],[87,134,58],[102,43,37],\n",
    "    [69,96,70],[73,67,43],[91,88,64],\n",
    "    [87,134,58],[102,43,37],[69,96,70]\n",
    "    \n",
    "],dtype = 'float32')\n",
    "\n",
    "targets = np.array([\n",
    "    [56,70],[81,101],[119,133],\n",
    "    [22,37],[103,119],[56,70],\n",
    "    [81,101],[119,133],[22,37],\n",
    "    [103,119],[56,70],[88,101],\n",
    "    [119,133],[22,37],[103,119]\n",
    "],dtype='float32')\n",
    "\n",
    "inputs = torch.from_numpy(inputs)\n",
    "targets = torch.from_numpy(targets)"
   ]
  },
  {
   "cell_type": "code",
   "execution_count": 7,
   "id": "59d51457",
   "metadata": {},
   "outputs": [
    {
     "data": {
      "text/plain": [
       "(tensor([[ 73.,  67.,  43.],\n",
       "         [ 91.,  88.,  64.],\n",
       "         [ 87., 134.,  58.],\n",
       "         [102.,  43.,  37.],\n",
       "         [ 69.,  96.,  70.],\n",
       "         [ 73.,  67.,  43.],\n",
       "         [ 91.,  88.,  64.],\n",
       "         [ 87., 134.,  58.],\n",
       "         [102.,  43.,  37.],\n",
       "         [ 69.,  96.,  70.],\n",
       "         [ 73.,  67.,  43.],\n",
       "         [ 91.,  88.,  64.],\n",
       "         [ 87., 134.,  58.],\n",
       "         [102.,  43.,  37.],\n",
       "         [ 69.,  96.,  70.]]),\n",
       " tensor([[ 56.,  70.],\n",
       "         [ 81., 101.],\n",
       "         [119., 133.],\n",
       "         [ 22.,  37.],\n",
       "         [103., 119.],\n",
       "         [ 56.,  70.],\n",
       "         [ 81., 101.],\n",
       "         [119., 133.],\n",
       "         [ 22.,  37.],\n",
       "         [103., 119.],\n",
       "         [ 56.,  70.],\n",
       "         [ 88., 101.],\n",
       "         [119., 133.],\n",
       "         [ 22.,  37.],\n",
       "         [103., 119.]]))"
      ]
     },
     "execution_count": 7,
     "metadata": {},
     "output_type": "execute_result"
    }
   ],
   "source": [
    "inputs , targets"
   ]
  },
  {
   "cell_type": "code",
   "execution_count": 10,
   "id": "07c7758e",
   "metadata": {},
   "outputs": [
    {
     "data": {
      "text/plain": [
       "(tensor([[ 73.,  67.,  43.],\n",
       "         [ 91.,  88.,  64.],\n",
       "         [ 87., 134.,  58.]]),\n",
       " tensor([[ 56.,  70.],\n",
       "         [ 81., 101.],\n",
       "         [119., 133.]]))"
      ]
     },
     "execution_count": 10,
     "metadata": {},
     "output_type": "execute_result"
    }
   ],
   "source": [
    "from torch.utils.data import TensorDataset\n",
    "train_ds = TensorDataset(inputs,targets)\n",
    "train_ds[0:3]"
   ]
  },
  {
   "cell_type": "code",
   "execution_count": 11,
   "id": "e3f49242",
   "metadata": {},
   "outputs": [],
   "source": [
    "from torch.utils.data import DataLoader\n",
    "batch_size =5\n",
    "train_dl = DataLoader(train_ds , batch_size,shuffle=True)"
   ]
  },
  {
   "cell_type": "code",
   "execution_count": 12,
   "id": "3698f700",
   "metadata": {},
   "outputs": [
    {
     "name": "stdout",
     "output_type": "stream",
     "text": [
      "tensor([[ 69.,  96.,  70.],\n",
      "        [102.,  43.,  37.],\n",
      "        [ 69.,  96.,  70.],\n",
      "        [102.,  43.,  37.],\n",
      "        [ 69.,  96.,  70.]])\n",
      "tensor([[103., 119.],\n",
      "        [ 22.,  37.],\n",
      "        [103., 119.],\n",
      "        [ 22.,  37.],\n",
      "        [103., 119.]])\n"
     ]
    }
   ],
   "source": [
    "for xb,yb in train_dl:\n",
    "    print(xb)\n",
    "    print(yb)\n",
    "    break"
   ]
  },
  {
   "cell_type": "code",
   "execution_count": 13,
   "id": "2c4b200c",
   "metadata": {},
   "outputs": [
    {
     "name": "stdout",
     "output_type": "stream",
     "text": [
      "Parameter containing:\n",
      "tensor([[-0.3139, -0.4425, -0.2999],\n",
      "        [ 0.3979, -0.3858, -0.4647]], requires_grad=True)\n",
      "Parameter containing:\n",
      "tensor([0.1489, 0.1701], requires_grad=True)\n"
     ]
    }
   ],
   "source": [
    "## define model\n",
    "\n",
    "model = nn.Linear(3,2)\n",
    "print(model.weight)\n",
    "print(model.bias)"
   ]
  },
  {
   "cell_type": "code",
   "execution_count": 14,
   "id": "5f00d697",
   "metadata": {},
   "outputs": [
    {
     "data": {
      "text/plain": [
       "[Parameter containing:\n",
       " tensor([[-0.3139, -0.4425, -0.2999],\n",
       "         [ 0.3979, -0.3858, -0.4647]], requires_grad=True),\n",
       " Parameter containing:\n",
       " tensor([0.1489, 0.1701], requires_grad=True)]"
      ]
     },
     "execution_count": 14,
     "metadata": {},
     "output_type": "execute_result"
    }
   ],
   "source": [
    "## parameters\n",
    "list(model.parameters())"
   ]
  },
  {
   "cell_type": "code",
   "execution_count": 15,
   "id": "1f2ec662",
   "metadata": {},
   "outputs": [
    {
     "data": {
      "text/plain": [
       "tensor([[ -65.3057,  -16.6104],\n",
       "        [ -86.5451,  -27.3077],\n",
       "        [-103.8430,  -43.8576],\n",
       "        [ -61.9908,    6.9767],\n",
       "        [ -84.9781,  -41.9366],\n",
       "        [ -65.3057,  -16.6104],\n",
       "        [ -86.5451,  -27.3077],\n",
       "        [-103.8430,  -43.8576],\n",
       "        [ -61.9908,    6.9767],\n",
       "        [ -84.9781,  -41.9366],\n",
       "        [ -65.3057,  -16.6104],\n",
       "        [ -86.5451,  -27.3077],\n",
       "        [-103.8430,  -43.8576],\n",
       "        [ -61.9908,    6.9767],\n",
       "        [ -84.9781,  -41.9366]], grad_fn=<AddmmBackward0>)"
      ]
     },
     "execution_count": 15,
     "metadata": {},
     "output_type": "execute_result"
    }
   ],
   "source": [
    "preds = model(inputs)\n",
    "preds"
   ]
  },
  {
   "cell_type": "code",
   "execution_count": 16,
   "id": "56fd2c1f",
   "metadata": {},
   "outputs": [],
   "source": [
    "## loss function\n",
    "import torch.nn.functional as  F\n",
    "loss_fn = F.mse_loss"
   ]
  },
  {
   "cell_type": "code",
   "execution_count": 17,
   "id": "7c440749",
   "metadata": {},
   "outputs": [
    {
     "name": "stdout",
     "output_type": "stream",
     "text": [
      "tensor(21767.8730, grad_fn=<MseLossBackward0>)\n"
     ]
    }
   ],
   "source": [
    "loss = loss_fn(model(inputs),targets)\n",
    "print(loss)"
   ]
  },
  {
   "cell_type": "code",
   "execution_count": 18,
   "id": "11138334",
   "metadata": {},
   "outputs": [],
   "source": [
    "## define optimizer\n",
    "\n",
    "opt = torch.optim.SGD(model.parameters(),lr = 1e-5)"
   ]
  },
  {
   "cell_type": "code",
   "execution_count": 27,
   "id": "2ba89459",
   "metadata": {},
   "outputs": [],
   "source": [
    "## train the model\n",
    "def fit(num_epochs,model,loss_fn,opt,train_dl):\n",
    "    for epoch in range(num_epochs):\n",
    "        for xb , yb in train_dl:\n",
    "            pred = model(xb)\n",
    "            loss = loss_fn(pred,yb)\n",
    "            loss.backward()\n",
    "            opt.step()\n",
    "            opt.zero_grad()\n",
    "            if (epoch+1) % 10 ==0:\n",
    "                print('Epoch [{}/{}],Loss : {:.4f}'.format(epoch+1,num_epochs,loss.item()))\n",
    "                "
   ]
  },
  {
   "cell_type": "code",
   "execution_count": 28,
   "id": "3baa34c7",
   "metadata": {},
   "outputs": [
    {
     "name": "stdout",
     "output_type": "stream",
     "text": [
      "Epoch [10/100],Loss : 141.1031\n",
      "Epoch [10/100],Loss : 156.7168\n",
      "Epoch [10/100],Loss : 327.5796\n",
      "Epoch [20/100],Loss : 154.5039\n",
      "Epoch [20/100],Loss : 56.4263\n",
      "Epoch [20/100],Loss : 241.7652\n",
      "Epoch [30/100],Loss : 113.5218\n",
      "Epoch [30/100],Loss : 88.6938\n",
      "Epoch [30/100],Loss : 150.9754\n",
      "Epoch [40/100],Loss : 85.2235\n",
      "Epoch [40/100],Loss : 89.7711\n",
      "Epoch [40/100],Loss : 87.5880\n",
      "Epoch [50/100],Loss : 69.0556\n",
      "Epoch [50/100],Loss : 66.4559\n",
      "Epoch [50/100],Loss : 78.6693\n",
      "Epoch [60/100],Loss : 80.4604\n",
      "Epoch [60/100],Loss : 77.0572\n",
      "Epoch [60/100],Loss : 13.3836\n",
      "Epoch [70/100],Loss : 43.7941\n",
      "Epoch [70/100],Loss : 52.0416\n",
      "Epoch [70/100],Loss : 51.9312\n",
      "Epoch [80/100],Loss : 38.2488\n",
      "Epoch [80/100],Loss : 58.0063\n",
      "Epoch [80/100],Loss : 27.6790\n",
      "Epoch [90/100],Loss : 36.0886\n",
      "Epoch [90/100],Loss : 49.0550\n",
      "Epoch [90/100],Loss : 25.2697\n",
      "Epoch [100/100],Loss : 31.4885\n",
      "Epoch [100/100],Loss : 34.0114\n",
      "Epoch [100/100],Loss : 32.6309\n"
     ]
    }
   ],
   "source": [
    "fit(100,model,loss_fn,opt,train_dl)"
   ]
  },
  {
   "cell_type": "code",
   "execution_count": 29,
   "id": "793e6baf",
   "metadata": {},
   "outputs": [
    {
     "data": {
      "text/plain": [
       "tensor([[ 58.4090,  71.7288],\n",
       "        [ 81.1421,  96.8196],\n",
       "        [121.4960, 139.7606],\n",
       "        [ 26.0811,  44.3572],\n",
       "        [ 97.0082, 108.1647],\n",
       "        [ 58.4090,  71.7288],\n",
       "        [ 81.1421,  96.8196],\n",
       "        [121.4960, 139.7606],\n",
       "        [ 26.0811,  44.3572],\n",
       "        [ 97.0082, 108.1647],\n",
       "        [ 58.4090,  71.7288],\n",
       "        [ 81.1421,  96.8196],\n",
       "        [121.4960, 139.7606],\n",
       "        [ 26.0811,  44.3572],\n",
       "        [ 97.0082, 108.1647]], grad_fn=<AddmmBackward0>)"
      ]
     },
     "execution_count": 29,
     "metadata": {},
     "output_type": "execute_result"
    }
   ],
   "source": [
    "preds = model(inputs)\n",
    "preds"
   ]
  },
  {
   "cell_type": "code",
   "execution_count": 30,
   "id": "a67acba2",
   "metadata": {},
   "outputs": [
    {
     "data": {
      "text/plain": [
       "tensor([[ 56.,  70.],\n",
       "        [ 81., 101.],\n",
       "        [119., 133.],\n",
       "        [ 22.,  37.],\n",
       "        [103., 119.],\n",
       "        [ 56.,  70.],\n",
       "        [ 81., 101.],\n",
       "        [119., 133.],\n",
       "        [ 22.,  37.],\n",
       "        [103., 119.],\n",
       "        [ 56.,  70.],\n",
       "        [ 88., 101.],\n",
       "        [119., 133.],\n",
       "        [ 22.,  37.],\n",
       "        [103., 119.]])"
      ]
     },
     "execution_count": 30,
     "metadata": {},
     "output_type": "execute_result"
    }
   ],
   "source": [
    "targets"
   ]
  }
 ],
 "metadata": {
  "kernelspec": {
   "display_name": "env-notes",
   "language": "python",
   "name": "python3"
  },
  "language_info": {
   "codemirror_mode": {
    "name": "ipython",
    "version": 3
   },
   "file_extension": ".py",
   "mimetype": "text/x-python",
   "name": "python",
   "nbconvert_exporter": "python",
   "pygments_lexer": "ipython3",
   "version": "3.13.2"
  }
 },
 "nbformat": 4,
 "nbformat_minor": 5
}
